{
 "cells": [
  {
   "cell_type": "markdown",
   "metadata": {},
   "source": [
    "# <center>LANGUAGE DISTRIBUTION</center>\n",
    "***\n",
    "## <font color = blue>I. LANGUAGE DISTRIBUTION</font>\n",
    "> A. LIBRARIES<br>\n",
    "> B. POLYGLOT LANGUAGE DETECTION<br>\n",
    "> C. FASTEXT LANGUAGE DETECTION<br>\n",
    "> D. COMPARISON BETWEEN POLYGLOT AND FASTTEXT<br>\n",
    "> E. LANGUAGE VISUALIZATION<br>\n",
    "\n",
    "## <font color = blue>II. SAVING THE DATAFRAME FOR THE NEXT STEPS</font>\n",
    "***\n",
    "##### Additional information before to get started :\n",
    "* The target of this notebook is to detect the language of the text.\n",
    "* We used two libraries for that: polyglot and fasttext.\n",
    "* After a comparison, we decided to use fasttext for our project.\n",
    "***"
   ]
  },
  {
   "cell_type": "markdown",
   "metadata": {},
   "source": [
    "## <font color = blue>I. LANGUAGE DISTRIBUTION</font>\n",
    "> A. LIBRARIES<br>"
   ]
  },
  {
   "cell_type": "code",
   "execution_count": null,
   "metadata": {},
   "outputs": [],
   "source": [
    "import pandas as pd\n",
    "\n",
    "import matplotlib.pyplot as plt\n",
    "import seaborn as sns\n",
    "\n",
    "from polyglot.detect import Detector\n",
    "from polyglot.detect.base import logger as polyglot_logger\n",
    "polyglot_logger.setLevel(\"ERROR\")\n",
    "\n",
    "import fasttext"
   ]
  },
  {
   "cell_type": "code",
   "execution_count": 34,
   "metadata": {},
   "outputs": [],
   "source": [
    "df = pd.read_csv('../data/data_with_text.csv')\n"
   ]
  },
  {
   "cell_type": "markdown",
   "metadata": {},
   "source": [
    "> B. POLYGLOT LANGUAGE DETECTION<br>"
   ]
  },
  {
   "cell_type": "code",
   "execution_count": 35,
   "metadata": {},
   "outputs": [],
   "source": [
    "def get_language_code_polyglot(text):\n",
    "    try:\n",
    "        lang = Detector(text.lower()).language\n",
    "        if (lang.confidence > 40):\n",
    "            return lang.code\n",
    "        else:\n",
    "            return 'unknown'\n",
    "    except:\n",
    "        return 'unknown'\n",
    "    \n",
    "def get_language_conf_polyglot(text):\n",
    "    try:\n",
    "        lang = Detector(text.lower()).language\n",
    "        return lang.confidence\n",
    "    except:\n",
    "        return 0\n",
    "\n"
   ]
  },
  {
   "cell_type": "markdown",
   "metadata": {},
   "source": [
    "> C. FASTEXT LANGUAGE DETECTION<br>"
   ]
  },
  {
   "cell_type": "code",
   "execution_count": 36,
   "metadata": {},
   "outputs": [],
   "source": [
    "fasttext.FastText.eprint = lambda x: None\n",
    "fmodel = fasttext.load_model('data/lid.176.bin')\n",
    "def get_language_code_fasttext(text):\n",
    "    try:\n",
    "        return fmodel.predict(text.lower())[0][0].split(\"__label__\")[1]\n",
    "    except Exception as e:\n",
    "        return 'unknown'\n",
    "\n",
    "def get_language_conf_fasttext(text):\n",
    "    try:\n",
    "        return fmodel.predict(text.lower())[1][0]\n",
    "    except Exception as e:\n",
    "        return 0\n",
    "\n"
   ]
  },
  {
   "cell_type": "markdown",
   "metadata": {},
   "source": [
    "> D. COMPARISON BETWEEN POLYGLOT AND FASTTEXT<br>"
   ]
  },
  {
   "cell_type": "code",
   "execution_count": 37,
   "metadata": {},
   "outputs": [
    {
     "name": "stderr",
     "output_type": "stream",
     "text": [
      "C:\\Users\\dell\\AppData\\Local\\Temp\\ipykernel_10308\\4028015265.py:1: FutureWarning: Passing a negative integer is deprecated in version 1.0 and will not be supported in future version. Instead, use None to not limit the column width.\n",
      "  pd.set_option('display.max_colwidth', -1)\n"
     ]
    },
    {
     "data": {
      "text/html": [
       "<div>\n",
       "<style scoped>\n",
       "    .dataframe tbody tr th:only-of-type {\n",
       "        vertical-align: middle;\n",
       "    }\n",
       "\n",
       "    .dataframe tbody tr th {\n",
       "        vertical-align: top;\n",
       "    }\n",
       "\n",
       "    .dataframe thead th {\n",
       "        text-align: right;\n",
       "    }\n",
       "</style>\n",
       "<table border=\"1\" class=\"dataframe\">\n",
       "  <thead>\n",
       "    <tr style=\"text-align: right;\">\n",
       "      <th></th>\n",
       "      <th>lang_code_p</th>\n",
       "      <th>lang_code_f</th>\n",
       "      <th>text</th>\n",
       "    </tr>\n",
       "  </thead>\n",
       "  <tbody>\n",
       "    <tr>\n",
       "      <th>25</th>\n",
       "      <td>unknown</td>\n",
       "      <td>fr</td>\n",
       "      <td>- - Moage - M - - - - - RPg FACTURE Logo Nom DATE Date - NDELAFACIURE VOTHEBOCIETE A Codep posial. Vile Telephone Vecopie Adressec de poumer Numéro FACTUREHA Aue Code postal Ville Telephene Telecopie Acesedes courier VENDEUR POSTE CONDITIONS DE PAIEMENT DATEDECHEANCE Alaricegtion QUANTITE DESCRIPTION PHIX UNITAIRE TOTALDELALIGNE Phal Puna a Pa Chmayaha Cymaph 0ynapwa CK-mapha MsimE MnitmE Mmnt MtmE MmE MmC Msent MmC Soustssal VVA Tosai -</td>\n",
       "    </tr>\n",
       "    <tr>\n",
       "      <th>28</th>\n",
       "      <td>unknown</td>\n",
       "      <td>fr</td>\n",
       "      <td>FACTURE SAUCISSES SA N:123 81-85 Cours Albert Thomas, 69003 Lyon, France reléphone: 33 123456789 Fax.+33 123456789 Email: esasidssésilse www. saucisses.com DETAILLE DE FACTURE: Date de facture Sujet Montant Totale FACTURA A: NOMBRE DIRECCION TELÉFONO CORREO ELECTRONICO 22 de abril de 2019 Jambons et saucisses 800E Jorge Santos Calle Canteros 68, Huelva, Esparla +34123-456789 orgesamipsegmal.com NO TIPO DE. ARTICULO 01 Jambons et saucisses DESCRIPCION Jambons 00% Espagnole QTY PRECIO I 325E 3 220€ IMPORTE 325€ 660E 02. Jambons et saucisses premium Jambans et saucisses premium 7Kg 03 04 05 06 07 SOUS-TOTAL TVA (20%) REMISE (10%) MONTANT TOTALE 1.072,66 985E 206,85E 119,185 METHODE DE PAIEMENT NOMBRE DEL BANCO SUJET NOM CONDITIONS GENERALES Auamentiunt undit accus et aut magnis a solorum autas digento con rematum sed estinum hil to tenit as roct maio blat laccarit temquam voloribus aut magins a maio hil Ret Everum Bank 1710042019 Debora Consedus solorum. Merci pour votre service.</td>\n",
       "    </tr>\n",
       "    <tr>\n",
       "      <th>31</th>\n",
       "      <td>unknown</td>\n",
       "      <td>fr</td>\n",
       "      <td>Pierre, 62 37659 Saint remy Telephone: +33653.026507 Email: eanpeme@supefacicom www. superfact.com Jean Pierre Facture 08 de mai de 2019 I No.1301 FACTURER. A.: Nom Adresse Telephone Email PAYMENT ECHU. 08 de juin de 201 NUMERO DE DEMANDE 08 de mai de 201 TOTALE $660.2 NO TYPE D'ARTICLE 01 Nom du servicelarticle 02 Nom du servicelarticle 03 Nom du servicelarticle 04 Nom du servicelarticle 05 Nom du servicelarticle 06 Nom du servicelarticle 07 Nom du servicelarticle DESCRIPTION Description d'articlel service ici Description d'articlel service ici Description d'article! service ici Description d'article! service ici Description d'articlel service ick Description d'articlel service ici Description d'article! service ici QNT PRIX 1 90€ 3 53€ 2 32€ 2 57€ 1 60€ 5 90€ 1 90€ P.T 90€ 159€ 64€ 114€ 60€ 450€ 90€ Méthode de payment Nom du Banque Numero de compe Titulaire du compte Terms et conditions FACTURE TOTALE SUBTOTAL TVA (21%) REDUCTION (10%) 21€ TOTALE 1000€ 210€ 1200€ Auamentiunt undit accus et aut magnis a solorum autas digento con rematum sed estnum hil mo tenit as reet maio blat lacearit temquam volorbus aut magins a maio hil solorum.</td>\n",
       "    </tr>\n",
       "    <tr>\n",
       "      <th>44</th>\n",
       "      <td>en</td>\n",
       "      <td>fr</td>\n",
       "      <td>FACTIRE E DoIT</td>\n",
       "    </tr>\n",
       "    <tr>\n",
       "      <th>45</th>\n",
       "      <td>en</td>\n",
       "      <td>fr</td>\n",
       "      <td>Facture d'avoir numero Date e at ragtune ECnCE d at atu Nunero de clicri Mamert c Modulne de ment Fmal à Cortact client Dur ce la patn Dtinatalres Isfermationa ompimmtaires, factane fvor m mhonae: de la tuctune jagan nno d  racanr ponnenale Dkescriptias uantile tiaiiy Frh niraine  A% VA TOTAL. - Mun faat Matinel heeres poces DOE ue a 24006 204 naoe  nuoe Total HT TVA Total TTC suoot 00oE so0D0€ Man de atne  arese ewk N SIRET ma: Caandanial patca</td>\n",
       "    </tr>\n",
       "    <tr>\n",
       "      <th>...</th>\n",
       "      <td>...</td>\n",
       "      <td>...</td>\n",
       "      <td>...</td>\n",
       "    </tr>\n",
       "    <tr>\n",
       "      <th>256</th>\n",
       "      <td>en</td>\n",
       "      <td>fr</td>\n",
       "      <td>Guse CANADA CANADA Passport Passeport The Minister ofForeign Ler ministre des Affaires Affairs ofCanada requests, étrangères duCanada, au int the name of Herl Majesty nom de Sal Majesté lal Reine, the Queen, allthosewhom prie les autorités intèressées itmay concerni to allow deb bien vouloir laisser passer the bearer to pass freely, let titulairel librement, sans without delay orh hindrance, délaic ou entrave, der même andt toa afford the bearer such que lui préterl'aideetla la assistanceand; protection protectiondontilaurait Ispaspotisthepoperty Cepasepotestèpopite atheGoenmentofCmada dugouemementdiCmada mustnotbealtered You Iinedoits tsubiraucune mustaererypreaution altération. Vousdevezen tosafeguardit. pendelepusgandsain Tispasponmaybeused Cepasseportnep peutètre onys/thebearerinw whose utilise queparsontitulire. nameitisisued, asr may ber necessary. besoin. Tobevaid,t thisp paspoitmust Pourétev valide, cep passeport besgdonpage3byte beareyu unlesthebearerisa dotporerlasgnatured chidunderheagedf6 titulairee estu une enfantà àgé de This passportisti thep propertyof Cepasseporte est! lap propriété the GovermentofCanada dug gouvernement duc Canada tituareenp npage3,saufsile moinsdel 16ans. Ttbarerofthispasport isaCanadandtien. Letitulaired de cep passeport estcitoyend canadien, Image ID: GKTXD2 www.alamy.com alamy</td>\n",
       "    </tr>\n",
       "    <tr>\n",
       "      <th>257</th>\n",
       "      <td>en</td>\n",
       "      <td>fr</td>\n",
       "      <td>- - - dt - o 2 ESP € 01-01-7025 ESPAINA REING PEESPANA ASAPORTE PASSPORT goCa PASAPORTE * PASSPORT MPASSEPCIA ESP % ESPANOLA, ESPANOLA A MISsNa CARMEN MTAKNN ESPANOLA. a - ZAB000221 - 01 01 1980 A9999999900  mende - * 1 - MADRID CMADRID) 09wMOA 01 01 2015 ee  dace  * a 01 01 2025 D6P-28391A6PK 10F hn: 9 de  ham L 123456 P&lt;ESPESPANOLAKESPANOLAK&lt;CARMENKKKGS ZAB0002217ESP8001014F2501017A9999999900&lt;&lt;448</td>\n",
       "    </tr>\n",
       "    <tr>\n",
       "      <th>258</th>\n",
       "      <td>unknown</td>\n",
       "      <td>de</td>\n",
       "      <td>AUHPANQUTAANCAIRENN EFRAN CASFREPUBIRUENNS AREPUBIGUEPANCAS2 ponmgasowyanenNe Union européenne Union europea /Den europaiske union Europdische Gemeinschaft: /Eupwraixn Evwan European Union/AntAontas, Eorpach Unione europea - Europese unie/Unidot europeia Euroopan unioni /Europeiska unionen République française Republica francesa /Den franske republik Franzosische Republik /TaNAR Anpoxparia Thei French Republic/Poblacht. na Fraince Repubblica francese. / Republiek Frankrijk Republica francesa /1 Ranskan tasavalta Republiken Frankrike Passeport Pasaporte /Pas/R Reisepass /AiaBarhpio Passport/Pas/ Passaporto, /F Paspoort Pasaporte/Pesi/pes vowv-aoneDANiSvONsniaNsNwaanonen.a</td>\n",
       "    </tr>\n",
       "    <tr>\n",
       "      <th>260</th>\n",
       "      <td>co</td>\n",
       "      <td>en</td>\n",
       "      <td>ACIOPT TPAKAAHMHA POCCHIICKOM OEAEPALILW</td>\n",
       "    </tr>\n",
       "    <tr>\n",
       "      <th>262</th>\n",
       "      <td>en</td>\n",
       "      <td>nn</td>\n",
       "      <td>- ytun -s</td>\n",
       "    </tr>\n",
       "  </tbody>\n",
       "</table>\n",
       "<p>100 rows × 3 columns</p>\n",
       "</div>"
      ],
      "text/plain": [
       "    lang_code_p lang_code_f  \\\n",
       "25   unknown     fr           \n",
       "28   unknown     fr           \n",
       "31   unknown     fr           \n",
       "44   en          fr           \n",
       "45   en          fr           \n",
       "..   ..          ..           \n",
       "256  en          fr           \n",
       "257  en          fr           \n",
       "258  unknown     de           \n",
       "260  co          en           \n",
       "262  en          nn           \n",
       "\n",
       "                                                                                                                                                                                                                                                                                                                                                                                                                                                                                                                                                                                                                                                                                                                                                                                                                                                                                                                                                                                                                                                                                                                                                                                                                                                                                                                                                                                          text  \n",
       "25    - - Moage - M - - - - - RPg FACTURE Logo Nom DATE Date - NDELAFACIURE VOTHEBOCIETE A Codep posial. Vile Telephone Vecopie Adressec de poumer Numéro FACTUREHA Aue Code postal Ville Telephene Telecopie Acesedes courier VENDEUR POSTE CONDITIONS DE PAIEMENT DATEDECHEANCE Alaricegtion QUANTITE DESCRIPTION PHIX UNITAIRE TOTALDELALIGNE Phal Puna a Pa Chmayaha Cymaph 0ynapwa CK-mapha MsimE MnitmE Mmnt MtmE MmE MmC Msent MmC Soustssal VVA Tosai -                                                                                                                                                                                                                                                                                                                                                                                                                                                                                                                                                                                                                                                                                                                                                                                                                                                                                                                                 \n",
       "28    FACTURE SAUCISSES SA N:123 81-85 Cours Albert Thomas, 69003 Lyon, France reléphone: 33 123456789 Fax.+33 123456789 Email: esasidssésilse www. saucisses.com DETAILLE DE FACTURE: Date de facture Sujet Montant Totale FACTURA A: NOMBRE DIRECCION TELÉFONO CORREO ELECTRONICO 22 de abril de 2019 Jambons et saucisses 800E Jorge Santos Calle Canteros 68, Huelva, Esparla +34123-456789 orgesamipsegmal.com NO TIPO DE. ARTICULO 01 Jambons et saucisses DESCRIPCION Jambons 00% Espagnole QTY PRECIO I 325E 3 220€ IMPORTE 325€ 660E 02. Jambons et saucisses premium Jambans et saucisses premium 7Kg 03 04 05 06 07 SOUS-TOTAL TVA (20%) REMISE (10%) MONTANT TOTALE 1.072,66 985E 206,85E 119,185 METHODE DE PAIEMENT NOMBRE DEL BANCO SUJET NOM CONDITIONS GENERALES Auamentiunt undit accus et aut magnis a solorum autas digento con rematum sed estinum hil to tenit as roct maio blat laccarit temquam voloribus aut magins a maio hil Ret Everum Bank 1710042019 Debora Consedus solorum. Merci pour votre service.                                                                                                                                                                                                                                                                                                                                                           \n",
       "31    Pierre, 62 37659 Saint remy Telephone: +33653.026507 Email: eanpeme@supefacicom www. superfact.com Jean Pierre Facture 08 de mai de 2019 I No.1301 FACTURER. A.: Nom Adresse Telephone Email PAYMENT ECHU. 08 de juin de 201 NUMERO DE DEMANDE 08 de mai de 201 TOTALE $660.2 NO TYPE D'ARTICLE 01 Nom du servicelarticle 02 Nom du servicelarticle 03 Nom du servicelarticle 04 Nom du servicelarticle 05 Nom du servicelarticle 06 Nom du servicelarticle 07 Nom du servicelarticle DESCRIPTION Description d'articlel service ici Description d'articlel service ici Description d'article! service ici Description d'article! service ici Description d'articlel service ick Description d'articlel service ici Description d'article! service ici QNT PRIX 1 90€ 3 53€ 2 32€ 2 57€ 1 60€ 5 90€ 1 90€ P.T 90€ 159€ 64€ 114€ 60€ 450€ 90€ Méthode de payment Nom du Banque Numero de compe Titulaire du compte Terms et conditions FACTURE TOTALE SUBTOTAL TVA (21%) REDUCTION (10%) 21€ TOTALE 1000€ 210€ 1200€ Auamentiunt undit accus et aut magnis a solorum autas digento con rematum sed estnum hil mo tenit as reet maio blat lacearit temquam volorbus aut magins a maio hil solorum.                                                                                                                                                                                          \n",
       "44    FACTIRE E DoIT                                                                                                                                                                                                                                                                                                                                                                                                                                                                                                                                                                                                                                                                                                                                                                                                                                                                                                                                                                                                                                                                                                                                                                                                                                                                                                                                                                            \n",
       "45    Facture d'avoir numero Date e at ragtune ECnCE d at atu Nunero de clicri Mamert c Modulne de ment Fmal à Cortact client Dur ce la patn Dtinatalres Isfermationa ompimmtaires, factane fvor m mhonae: de la tuctune jagan nno d  racanr ponnenale Dkescriptias uantile tiaiiy Frh niraine  A% VA TOTAL. - Mun faat Matinel heeres poces DOE ue a 24006 204 naoe  nuoe Total HT TVA Total TTC suoot 00oE so0D0€ Man de atne  arese ewk N SIRET ma: Caandanial patca                                                                                                                                                                                                                                                                                                                                                                                                                                                                                                                                                                                                                                                                                                                                                                                                                                                                                                                         \n",
       "..                                                                                                                                                                                                                                                                                                                                                                                                                                                                  ...                                                                                                                                                                                                                                                                                                                                                                                                                                                                                                                                                                                                                                                                                                                                                                                                                                                                                                                         \n",
       "256   Guse CANADA CANADA Passport Passeport The Minister ofForeign Ler ministre des Affaires Affairs ofCanada requests, étrangères duCanada, au int the name of Herl Majesty nom de Sal Majesté lal Reine, the Queen, allthosewhom prie les autorités intèressées itmay concerni to allow deb bien vouloir laisser passer the bearer to pass freely, let titulairel librement, sans without delay orh hindrance, délaic ou entrave, der même andt toa afford the bearer such que lui préterl'aideetla la assistanceand; protection protectiondontilaurait Ispaspotisthepoperty Cepasepotestèpopite atheGoenmentofCmada dugouemementdiCmada mustnotbealtered You Iinedoits tsubiraucune mustaererypreaution altération. Vousdevezen tosafeguardit. pendelepusgandsain Tispasponmaybeused Cepasseportnep peutètre onys/thebearerinw whose utilise queparsontitulire. nameitisisued, asr may ber necessary. besoin. Tobevaid,t thisp paspoitmust Pourétev valide, cep passeport besgdonpage3byte beareyu unlesthebearerisa dotporerlasgnatured chidunderheagedf6 titulairee estu une enfantà àgé de This passportisti thep propertyof Cepasseporte est! lap propriété the GovermentofCanada dug gouvernement duc Canada tituareenp npage3,saufsile moinsdel 16ans. Ttbarerofthispasport isaCanadandtien. Letitulaired de cep passeport estcitoyend canadien, Image ID: GKTXD2 www.alamy.com alamy  \n",
       "257   - - - dt - o 2 ESP € 01-01-7025 ESPAINA REING PEESPANA ASAPORTE PASSPORT goCa PASAPORTE * PASSPORT MPASSEPCIA ESP % ESPANOLA, ESPANOLA A MISsNa CARMEN MTAKNN ESPANOLA. a - ZAB000221 - 01 01 1980 A9999999900  mende - * 1 - MADRID CMADRID) 09wMOA 01 01 2015 ee  dace  * a 01 01 2025 D6P-28391A6PK 10F hn: 9 de  ham L 123456 P<ESPESPANOLAKESPANOLAK<CARMENKKKGS ZAB0002217ESP8001014F2501017A9999999900<<448                                                                                                                                                                                                                                                                                                                                                                                                                                                                                                                                                                                                                                                                                                                                                                                                                                                                                                                                                                        \n",
       "258   AUHPANQUTAANCAIRENN EFRAN CASFREPUBIRUENNS AREPUBIGUEPANCAS2 ponmgasowyanenNe Union européenne Union europea /Den europaiske union Europdische Gemeinschaft: /Eupwraixn Evwan European Union/AntAontas, Eorpach Unione europea - Europese unie/Unidot europeia Euroopan unioni /Europeiska unionen République française Republica francesa /Den franske republik Franzosische Republik /TaNAR Anpoxparia Thei French Republic/Poblacht. na Fraince Repubblica francese. / Republiek Frankrijk Republica francesa /1 Ranskan tasavalta Republiken Frankrike Passeport Pasaporte /Pas/R Reisepass /AiaBarhpio Passport/Pas/ Passaporto, /F Paspoort Pasaporte/Pesi/pes vowv-aoneDANiSvONsniaNsNwaanonen.a                                                                                                                                                                                                                                                                                                                                                                                                                                                                                                                                                                                                                                                                                   \n",
       "260   ACIOPT TPAKAAHMHA POCCHIICKOM OEAEPALILW                                                                                                                                                                                                                                                                                                                                                                                                                                                                                                                                                                                                                                                                                                                                                                                                                                                                                                                                                                                                                                                                                                                                                                                                                                                                                                                                                  \n",
       "262   - ytun -s                                                                                                                                                                                                                                                                                                                                                                                                                                                                                                                                                                                                                                                                                                                                                                                                                                                                                                                                                                                                                                                                                                                                                                                                                                                                                                                                                                                 \n",
       "\n",
       "[100 rows x 3 columns]"
      ]
     },
     "execution_count": 37,
     "metadata": {},
     "output_type": "execute_result"
    }
   ],
   "source": [
    "pd.set_option('display.max_colwidth', -1)\n",
    "df_compare = df.copy()\n",
    "df_compare['lang_code_p'] = df_compare['text'].apply(get_language_code_polyglot)\n",
    "df_compare['lang_code_f'] = df_compare['text'].apply(get_language_code_fasttext)\n",
    "\n",
    "df_diff = df_compare[df_compare['lang_code_p']!=df_compare['lang_code_f']]\n",
    "\n",
    "\n",
    "df_diff[['lang_code_p','lang_code_f','text']].head(100)"
   ]
  },
  {
   "cell_type": "markdown",
   "metadata": {},
   "source": [
    "**We'll use the fasttext library**"
   ]
  },
  {
   "cell_type": "code",
   "execution_count": 39,
   "metadata": {},
   "outputs": [],
   "source": [
    "df['lang_code'] = df['text'].apply(get_language_code_fasttext)\n",
    "df['lang_conf'] = df['text'].apply(get_language_conf_fasttext)"
   ]
  },
  {
   "cell_type": "markdown",
   "metadata": {},
   "source": [
    "> E. LANGUAGE VISUALIZATION<br>"
   ]
  },
  {
   "cell_type": "code",
   "execution_count": 40,
   "metadata": {},
   "outputs": [
    {
     "data": {
      "image/png": "[encoded data removed]",
      "text/plain": [
       "<Figure size 1080x720 with 2 Axes>"
      ]
     },
     "metadata": {
      "needs_background": "light"
     },
     "output_type": "display_data"
    }
   ],
   "source": [
    "fig = plt.figure(figsize=(15,10))\n",
    "plt.subplot(121)\n",
    "sns.countplot(y='lang_code',data=df,order=df.lang_code.value_counts().iloc[:10].index).set(title='Top 10 languages')\n",
    "\n",
    "plt.subplot(122)\n",
    "sns.boxplot(x = 'lang_conf', y = 'lang_code', data = df, order = df.lang_code.value_counts().iloc[:10].index)\n",
    "plt.title(label = 'Language trust indicator')\n",
    "plt.show()"
   ]
  },
  {
   "cell_type": "markdown",
   "metadata": {},
   "source": [
    "## <font color = blue>II. SAVING THE DATAFRAME FOR THE NEXT STEPS</font>"
   ]
  },
  {
   "cell_type": "code",
   "execution_count": 41,
   "metadata": {},
   "outputs": [],
   "source": [
    "df.to_csv('../data/data_with_text_langue.csv')"
   ]
  }
 ],
 "metadata": {
  "colab": {
   "collapsed_sections": [],
   "name": "OCR Project.ipynb",
   "provenance": [],
   "toc_visible": true
  },
  "kernelspec": {
   "display_name": "Python 3 (ipykernel)",
   "language": "python",
   "name": "python3"
  },
  "language_info": {
   "codemirror_mode": {
    "name": "ipython",
    "version": 3
   },
   "file_extension": ".py",
   "mimetype": "text/x-python",
   "name": "python",
   "nbconvert_exporter": "python",
   "pygments_lexer": "ipython3",
   "version": "3.9.12"
  }
 },
 "nbformat": 4,
 "nbformat_minor": 1
}
